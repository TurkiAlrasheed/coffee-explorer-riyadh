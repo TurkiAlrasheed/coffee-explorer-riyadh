{
 "cells": [
  {
   "cell_type": "code",
   "execution_count": 86,
   "metadata": {},
   "outputs": [],
   "source": [
    "import pandas as pd\n",
    "import numpy as np\n",
    "import geopandas as gpd"
   ]
  },
  {
   "cell_type": "markdown",
   "metadata": {},
   "source": [
    "Webscraped Data of coffee shops in riyadh, which will need alot of cleaning"
   ]
  },
  {
   "cell_type": "code",
   "execution_count": 87,
   "metadata": {},
   "outputs": [
    {
     "name": "stdout",
     "output_type": "stream",
     "text": [
      "(2609, 7)\n"
     ]
    },
    {
     "data": {
      "text/html": [
       "<div>\n",
       "<style scoped>\n",
       "    .dataframe tbody tr th:only-of-type {\n",
       "        vertical-align: middle;\n",
       "    }\n",
       "\n",
       "    .dataframe tbody tr th {\n",
       "        vertical-align: top;\n",
       "    }\n",
       "\n",
       "    .dataframe thead th {\n",
       "        text-align: right;\n",
       "    }\n",
       "</style>\n",
       "<table border=\"1\" class=\"dataframe\">\n",
       "  <thead>\n",
       "    <tr style=\"text-align: right;\">\n",
       "      <th></th>\n",
       "      <th>coffeeName</th>\n",
       "      <th>rating</th>\n",
       "      <th>rating_count</th>\n",
       "      <th>url</th>\n",
       "      <th>24_hours</th>\n",
       "      <th>longitude</th>\n",
       "      <th>latitude</th>\n",
       "    </tr>\n",
       "  </thead>\n",
       "  <tbody>\n",
       "    <tr>\n",
       "      <th>0</th>\n",
       "      <td>Cacti Cafe</td>\n",
       "      <td>4.2</td>\n",
       "      <td>2212</td>\n",
       "      <td>https://www.google.com/maps/place/Cacti+Cafe/data=!4m7!3m6!1s0x3e2efde0d2059f1d:0xfca400b51ca140cc!8m2!3d24.8339855!4d46.7356133!16s%2Fg%2F11mwzvn0zx!19sChIJHZ8F0uD9Lj4RzEChHLUApPw?authuser=0&amp;hl=en&amp;rclk=1</td>\n",
       "      <td>True</td>\n",
       "      <td>46.7356133</td>\n",
       "      <td>24.8339855</td>\n",
       "    </tr>\n",
       "    <tr>\n",
       "      <th>1</th>\n",
       "      <td>فازا قهوة مختصة</td>\n",
       "      <td>4.3</td>\n",
       "      <td>889</td>\n",
       "      <td>https://www.google.com/maps/place/%D9%81%D8%A7%D8%B2%D8%A7+%D9%82%D9%87%D9%88%D8%A9+%D9%85%D8%AE%D8%AA%D8%B5%D8%A9%E2%80%AD/data=!4m7!3m6!1s0x3e2efdc6c840b3ed:0x792ad260e10b7e!8m2!3d24.7724577!4d46.6973369!16s%2Fg%2F11mwkdclc9!19sChIJ7bNAyMb9Lj4RfgvhYNIqeQA?authuser=0&amp;hl=en&amp;rclk=1</td>\n",
       "      <td>False</td>\n",
       "      <td>46.6973369</td>\n",
       "      <td>24.7724577</td>\n",
       "    </tr>\n",
       "    <tr>\n",
       "      <th>2</th>\n",
       "      <td>ناريز</td>\n",
       "      <td>3.8</td>\n",
       "      <td>39</td>\n",
       "      <td>https://www.google.com/maps/place/%D9%86%D8%A7%D8%B1%D9%8A%D8%B2%E2%80%AD/data=!4m7!3m6!1s0x3e2faacd291e6591:0x3e908558d2f0f63f!8m2!3d24.8072766!4d46.8521092!16s%2Fg%2F11c5_5k_zz!19sChIJkWUeKc2qLz4RP_bw0liFkD4?authuser=0&amp;hl=en&amp;rclk=1</td>\n",
       "      <td>False</td>\n",
       "      <td>46.8521092</td>\n",
       "      <td>24.8072766</td>\n",
       "    </tr>\n",
       "    <tr>\n",
       "      <th>3</th>\n",
       "      <td>Fc Lounge - اف سي لاونج</td>\n",
       "      <td>3.5</td>\n",
       "      <td>539</td>\n",
       "      <td>https://www.google.com/maps/place/Fc+Lounge+-+%D8%A7%D9%81+%D8%B3%D9%8A+%D9%84%D8%A7%D9%88%D9%86%D8%AC%E2%80%AD/data=!4m7!3m6!1s0x3e2eff79d7dd770d:0xbd5029a7e12e0c2b!8m2!3d24.8131149!4d46.7680585!16s%2Fg%2F11lgkw1ffk!19sChIJDXfd13n_Lj4RKwwu4acpUL0?authuser=0&amp;hl=en&amp;rclk=1</td>\n",
       "      <td>True</td>\n",
       "      <td>46.7680585</td>\n",
       "      <td>24.8131149</td>\n",
       "    </tr>\n",
       "    <tr>\n",
       "      <th>4</th>\n",
       "      <td>PEAKS</td>\n",
       "      <td>4.6</td>\n",
       "      <td>25</td>\n",
       "      <td>https://www.google.com/maps/place/PEAKS/data=!4m7!3m6!1s0x3e2ee380585f0151:0xab784cd32a1e3d85!8m2!3d24.742045!4d46.6348092!16s%2Fg%2F11s0qh89n0!19sChIJUQFfWIDjLj4RhT0eKtNMeKs?authuser=0&amp;hl=en&amp;rclk=1</td>\n",
       "      <td>False</td>\n",
       "      <td>46.6348092</td>\n",
       "      <td>24.742045</td>\n",
       "    </tr>\n",
       "  </tbody>\n",
       "</table>\n",
       "</div>"
      ],
      "text/plain": [
       "                coffeeName  rating  rating_count  \\\n",
       "0               Cacti Cafe     4.2          2212   \n",
       "1          فازا قهوة مختصة     4.3           889   \n",
       "2                    ناريز     3.8            39   \n",
       "3  Fc Lounge - اف سي لاونج     3.5           539   \n",
       "4                    PEAKS     4.6            25   \n",
       "\n",
       "                                                                                                                                                                                                                                                                                         url  \\\n",
       "0                                                                               https://www.google.com/maps/place/Cacti+Cafe/data=!4m7!3m6!1s0x3e2efde0d2059f1d:0xfca400b51ca140cc!8m2!3d24.8339855!4d46.7356133!16s%2Fg%2F11mwzvn0zx!19sChIJHZ8F0uD9Lj4RzEChHLUApPw?authuser=0&hl=en&rclk=1   \n",
       "1  https://www.google.com/maps/place/%D9%81%D8%A7%D8%B2%D8%A7+%D9%82%D9%87%D9%88%D8%A9+%D9%85%D8%AE%D8%AA%D8%B5%D8%A9%E2%80%AD/data=!4m7!3m6!1s0x3e2efdc6c840b3ed:0x792ad260e10b7e!8m2!3d24.7724577!4d46.6973369!16s%2Fg%2F11mwkdclc9!19sChIJ7bNAyMb9Lj4RfgvhYNIqeQA?authuser=0&hl=en&rclk=1   \n",
       "2                                                  https://www.google.com/maps/place/%D9%86%D8%A7%D8%B1%D9%8A%D8%B2%E2%80%AD/data=!4m7!3m6!1s0x3e2faacd291e6591:0x3e908558d2f0f63f!8m2!3d24.8072766!4d46.8521092!16s%2Fg%2F11c5_5k_zz!19sChIJkWUeKc2qLz4RP_bw0liFkD4?authuser=0&hl=en&rclk=1   \n",
       "3            https://www.google.com/maps/place/Fc+Lounge+-+%D8%A7%D9%81+%D8%B3%D9%8A+%D9%84%D8%A7%D9%88%D9%86%D8%AC%E2%80%AD/data=!4m7!3m6!1s0x3e2eff79d7dd770d:0xbd5029a7e12e0c2b!8m2!3d24.8131149!4d46.7680585!16s%2Fg%2F11lgkw1ffk!19sChIJDXfd13n_Lj4RKwwu4acpUL0?authuser=0&hl=en&rclk=1   \n",
       "4                                                                                     https://www.google.com/maps/place/PEAKS/data=!4m7!3m6!1s0x3e2ee380585f0151:0xab784cd32a1e3d85!8m2!3d24.742045!4d46.6348092!16s%2Fg%2F11s0qh89n0!19sChIJUQFfWIDjLj4RhT0eKtNMeKs?authuser=0&hl=en&rclk=1   \n",
       "\n",
       "   24_hours   longitude    latitude  \n",
       "0      True  46.7356133  24.8339855  \n",
       "1     False  46.6973369  24.7724577  \n",
       "2     False  46.8521092  24.8072766  \n",
       "3      True  46.7680585  24.8131149  \n",
       "4     False  46.6348092   24.742045  "
      ]
     },
     "execution_count": 87,
     "metadata": {},
     "output_type": "execute_result"
    }
   ],
   "source": [
    "cafes = pd.read_csv('riyadh_cafes.csv')\n",
    "cafes = cafes.drop('index', axis=1)\n",
    "cafes = cafes.replace(\"Null\", np.nan)\n",
    "cafes = cafes.replace(\"null\", np.nan)\n",
    "cafes = cafes.rename(columns={\n",
    "    'lan': 'latitude',\n",
    "    'lon': 'longitude'})\n",
    "print(cafes.shape)\n",
    "cafes.head()"
   ]
  },
  {
   "cell_type": "code",
   "execution_count": 88,
   "metadata": {},
   "outputs": [],
   "source": [
    "cleaned_words = []"
   ]
  },
  {
   "cell_type": "markdown",
   "metadata": {},
   "source": [
    "functions"
   ]
  },
  {
   "cell_type": "code",
   "execution_count": 89,
   "metadata": {},
   "outputs": [],
   "source": [
    "import re\n",
    "\n",
    "#Basic String Cleaning:\n",
    "def clean_str(text):\n",
    "    search  = [\"آ\",\"إ\",\"أ\",\"ة\",\"ى\",\"  \"]\n",
    "    replace = [\"ا\",\"ا\",\"ا\",\"ه\",\"ي\",\" \"]\n",
    "    \n",
    "    text = text.replace('وو', 'و')\n",
    "    text = text.replace('يي', 'ي')\n",
    "    text = text.replace('اا', 'ا')\n",
    "\n",
    "    #remove tashkeel\n",
    "    p_tashkeel = re.compile(r'[\\u0617-\\u061A\\u064B-\\u0652]')\n",
    "    text = re.sub(p_tashkeel,\"\", text)\n",
    "    \n",
    "    for i in range(0, len(search)):\n",
    "        text = text.replace(search[i], replace[i])\n",
    "        \n",
    "    # Remove unwanted symbols, keeping / and % and.\n",
    "    text = re.sub(r'[^\\w\\s/٪.]', '', text) \n",
    "    \n",
    "    return text.strip() \n",
    "\n",
    "import unicodedata\n",
    "\n",
    "def remove_accents(text):\n",
    "    if isinstance(text, str):\n",
    "        return ''.join(\n",
    "            c for c in unicodedata.normalize('NFKD', text)\n",
    "            if not unicodedata.combining(c)\n",
    "        )\n",
    "    return text\n",
    "\n",
    "\n",
    "def normalize_arabic(text):\n",
    "    if not isinstance(text, str):\n",
    "        return text\n",
    "    text = re.sub(r'[\\u064B-\\u0652\\u0640\\u200f\\u200e\\u00A0]', '', text)  # remove diacritics, tatweel, NBSP\n",
    "    return text.strip()\n",
    "\n",
    "def fix_words(contained_word, true_word):\n",
    "    mask = cafes['coffeeName'].str.contains(contained_word, case=False, na=False)\n",
    "    cafes.loc[mask, 'coffeeName'] = true_word\n",
    "\n",
    "    cleaned_words.append(true_word)\n",
    "    "
   ]
  },
  {
   "cell_type": "markdown",
   "metadata": {},
   "source": [
    "Cleaning the coffeeName column"
   ]
  },
  {
   "cell_type": "markdown",
   "metadata": {},
   "source": [
    "lowercase, strip, remove extra spaces"
   ]
  },
  {
   "cell_type": "code",
   "execution_count": 90,
   "metadata": {},
   "outputs": [],
   "source": [
    "cafes['coffeeName']  = cafes['coffeeName'].str.lower().str.strip().str.replace(r'\\s+', ' ', regex=True).apply(clean_str).apply(remove_accents).apply(normalize_arabic).str.strip('.').str.strip()"
   ]
  },
  {
   "cell_type": "code",
   "execution_count": 91,
   "metadata": {},
   "outputs": [
    {
     "data": {
      "text/plain": [
       "['مزاج مغربي', 'استكانه المزاج  فرع اليرموك', 'ديوانيه مزاج الراحه']"
      ]
     },
     "execution_count": 91,
     "metadata": {},
     "output_type": "execute_result"
    }
   ],
   "source": [
    "cafes[cafes.coffeeName.str.contains(\"مزاج \")].coffeeName.unique().tolist()"
   ]
  },
  {
   "cell_type": "code",
   "execution_count": 92,
   "metadata": {},
   "outputs": [
    {
     "data": {
      "text/plain": [
       "['كافيه توتي سفرجل']"
      ]
     },
     "execution_count": 92,
     "metadata": {},
     "output_type": "execute_result"
    }
   ],
   "source": [
    "cafes[cafes.coffeeName.str.contains(\"توتي\")].coffeeName.unique().tolist()"
   ]
  },
  {
   "cell_type": "code",
   "execution_count": 93,
   "metadata": {},
   "outputs": [
    {
     "data": {
      "text/html": [
       "<div>\n",
       "<style scoped>\n",
       "    .dataframe tbody tr th:only-of-type {\n",
       "        vertical-align: middle;\n",
       "    }\n",
       "\n",
       "    .dataframe tbody tr th {\n",
       "        vertical-align: top;\n",
       "    }\n",
       "\n",
       "    .dataframe thead th {\n",
       "        text-align: right;\n",
       "    }\n",
       "</style>\n",
       "<table border=\"1\" class=\"dataframe\">\n",
       "  <thead>\n",
       "    <tr style=\"text-align: right;\">\n",
       "      <th></th>\n",
       "      <th>coffeeName</th>\n",
       "      <th>rating</th>\n",
       "      <th>rating_count</th>\n",
       "      <th>url</th>\n",
       "      <th>24_hours</th>\n",
       "      <th>longitude</th>\n",
       "      <th>latitude</th>\n",
       "    </tr>\n",
       "  </thead>\n",
       "  <tbody>\n",
       "    <tr>\n",
       "      <th>2361</th>\n",
       "      <td>ديوانيه مزاج الراحه</td>\n",
       "      <td>3.9</td>\n",
       "      <td>133</td>\n",
       "      <td>https://www.google.com/maps/place/%D8%AF%D9%8A%D9%88%D8%A7%D9%86%D9%8A%D8%A9+%D9%85%D8%B2%D8%A7%D8%AC+%D8%A7%D9%84%D8%B1%D8%A7%D8%AD%D8%A9%E2%80%AD/data=!4m7!3m6!1s0x3e2f1f61ca2d0791:0xd324cf45df912b38!8m2!3d24.6333332!4d46.5309647!16s%2Fg%2F11h3_c4bq0!19sChIJkQctymEfLz4ROCuR30XPJNM?authuser=0&amp;hl=en&amp;rclk=1</td>\n",
       "      <td>True</td>\n",
       "      <td>46.5309647</td>\n",
       "      <td>24.6333332</td>\n",
       "    </tr>\n",
       "  </tbody>\n",
       "</table>\n",
       "</div>"
      ],
      "text/plain": [
       "               coffeeName  rating  rating_count  \\\n",
       "2361  ديوانيه مزاج الراحه     3.9           133   \n",
       "\n",
       "                                                                                                                                                                                                                                                                                                                      url  \\\n",
       "2361  https://www.google.com/maps/place/%D8%AF%D9%8A%D9%88%D8%A7%D9%86%D9%8A%D8%A9+%D9%85%D8%B2%D8%A7%D8%AC+%D8%A7%D9%84%D8%B1%D8%A7%D8%AD%D8%A9%E2%80%AD/data=!4m7!3m6!1s0x3e2f1f61ca2d0791:0xd324cf45df912b38!8m2!3d24.6333332!4d46.5309647!16s%2Fg%2F11h3_c4bq0!19sChIJkQctymEfLz4ROCuR30XPJNM?authuser=0&hl=en&rclk=1   \n",
       "\n",
       "      24_hours   longitude    latitude  \n",
       "2361      True  46.5309647  24.6333332  "
      ]
     },
     "execution_count": 93,
     "metadata": {},
     "output_type": "execute_result"
    }
   ],
   "source": [
    "pd.set_option('display.max_colwidth', None)\n",
    "cafes[cafes['coffeeName']=='ديوانيه مزاج الراحه']\n"
   ]
  },
  {
   "cell_type": "markdown",
   "metadata": {},
   "source": [
    "Some data cleaning for first few coffee places"
   ]
  },
  {
   "cell_type": "code",
   "execution_count": 94,
   "metadata": {},
   "outputs": [
    {
     "name": "stderr",
     "output_type": "stream",
     "text": [
      "/var/folders/cl/4ndfg5191d74xd8pclttf16w0000gn/T/ipykernel_24634/451006981.py:42: UserWarning: This pattern is interpreted as a regular expression, and has match groups. To actually get the groups, use str.extract.\n",
      "  mask = cafes['coffeeName'].str.contains(contained_word, case=False, na=False)\n",
      "/var/folders/cl/4ndfg5191d74xd8pclttf16w0000gn/T/ipykernel_24634/2407599716.py:73: UserWarning: This pattern is interpreted as a regular expression, and has match groups. To actually get the groups, use str.extract.\n",
      "  mask_dana = cafes['coffeeName'].str.contains(r'\\bdana\\s+(cafe|coffee)\\b|دانه\\s*كافيه', case=False, na=False)\n"
     ]
    }
   ],
   "source": [
    "## starbucks\n",
    "\n",
    "arabic_starbucks_variants = [\n",
    "    'ستار بكس',\n",
    "    'ستار بوكس',\n",
    "    'كافي استار بوكس',\n",
    "    'استار بوكس',\n",
    "    'استاربوكس'\n",
    "]\n",
    "mask_star = cafes['coffeeName'].str.contains('starbucks', case=False, na=False) & ~cafes['coffeeName'].str.contains('reserve', case=False, na=False)\n",
    "cafes.loc[mask_star, 'coffeeName'] = 'starbucks'\n",
    "cafes.loc[cafes['coffeeName'].isin(arabic_starbucks_variants), 'coffeeName'] = 'starbucks'\n",
    "\n",
    "cleaned_words.append('starbucks')\n",
    "\n",
    "\n",
    "# mccafe\n",
    "\n",
    "mask_mccafe = (\n",
    "    cafes['coffeeName'].str.contains(r'\\bmccafe\\b', case=False, na=False) |\n",
    "    cafes['coffeeName'].str.contains('ماك كافيه', na=False)\n",
    ")\n",
    "cafes.loc[mask_mccafe, 'coffeeName'] = 'mccafe'\n",
    "\n",
    "cleaned_words.append('mccafe')\n",
    "\n",
    "# coffee address\n",
    "\n",
    "fix_words(r'(address|عنوان)', 'coffee address')\n",
    "\n",
    "\n",
    "## dunkin donuts\n",
    "\n",
    "fix_words(r'dunkin|دانكن', 'dunkin donuts')\n",
    "\n",
    "## barns\n",
    "\n",
    "fix_words(r'\\bbarns\\b|بارنز', 'barns')\n",
    "\n",
    "\n",
    "\n",
    "## dr.cafe  ( after next cell we remove coffee)\n",
    "\n",
    "mask_drcafe = cafes['coffeeName'].str.contains(r'dr\\.?\\s*cafe|د\\.?كيف', case=False, na=False)\n",
    "cafes.loc[mask_drcafe, 'coffeeName'] = 'dr.cafe coffee'\n",
    "cleaned_words.append('dr.cafe')\n",
    "\n",
    "\n",
    "## java ( after next cell we remove cafe)\n",
    "mask_java_cafe = (\n",
    "    cafes['coffeeName'].str.contains(r'java\\s*cafe|جافا\\s*كافيه', case=False, na=False) &\n",
    "    ~cafes['coffeeName'].str.contains(r'java\\s*time|جافا\\s*تايم', case=False, na=False)\n",
    ")\n",
    "\n",
    "cafes.loc[mask_java_cafe, 'coffeeName'] = 'java cafe'\n",
    "cleaned_words.append('java')\n",
    "\n",
    "## java time\n",
    "\n",
    "fix_words(r'java\\s*time|جافا\\s*تايم', 'java time')\n",
    "\n",
    "\n",
    "## dan (removed cafe after next cell is executed)\n",
    "\n",
    "mask_dan = cafes['coffeeName'].str.contains(r'\\bdan\\s*cafe\\b|دان\\s*كافيه', case=False, na=False)\n",
    "cafes.loc[mask_dan, 'coffeeName'] = 'dan cafe'\n",
    "cleaned_words.append('dan')\n",
    "\n",
    "\n",
    "\n",
    "## dana (removed cafe after next cell is executed)\n",
    "\n",
    "mask_dana = cafes['coffeeName'].str.contains(r'\\bdana\\s+(cafe|coffee)\\b|دانه\\s*كافيه', case=False, na=False)\n",
    "cafes.loc[mask_dana, 'coffeeName'] = 'dana cafe'\n",
    "\n",
    "cleaned_words.append('dana')\n",
    "\n",
    "\n",
    "## mammabunz (removed cafe after next cell is executed)\n",
    "\n",
    "mask_mammabunz = cafes['coffeeName'].str.contains(r'mammabunz|ماما\\s*بنز', case=False, na=False)\n",
    "cafes.loc[mask_mammabunz, 'coffeeName'] = 'mammabunz cafe'\n",
    "cleaned_words.append('mammabunz')\n"
   ]
  },
  {
   "cell_type": "markdown",
   "metadata": {},
   "source": [
    "removing cafe or coffee only if its at the end as a standalone word"
   ]
  },
  {
   "cell_type": "code",
   "execution_count": 95,
   "metadata": {},
   "outputs": [],
   "source": [
    "cafes['coffeeName'] = cafes['coffeeName'].str.replace(r'\\b(coffee|cofee|cafe|كافيه|كيف|الكيف|الكافيه)$', '', regex=True).str.strip()\n",
    "cafes['coffeeName'] = cafes['coffeeName'].str.replace(r'^كافيه\\s*', '', regex=True)\n",
    "cafes['coffeeName'] = cafes['coffeeName'].str.strip()"
   ]
  },
  {
   "cell_type": "markdown",
   "metadata": {},
   "source": [
    "more data cleaning"
   ]
  },
  {
   "cell_type": "code",
   "execution_count": 96,
   "metadata": {},
   "outputs": [
    {
     "name": "stderr",
     "output_type": "stream",
     "text": [
      "/var/folders/cl/4ndfg5191d74xd8pclttf16w0000gn/T/ipykernel_24634/451006981.py:42: UserWarning: This pattern is interpreted as a regular expression, and has match groups. To actually get the groups, use str.extract.\n",
      "  mask = cafes['coffeeName'].str.contains(contained_word, case=False, na=False)\n"
     ]
    }
   ],
   "source": [
    "## kyan\n",
    "\n",
    "fix_words(r'^\\s*(كيان|kyan)\\b', 'kyan')\n",
    "\n",
    "## arabica \n",
    "cleaned_words.append('arabica')\n",
    "\n",
    "## tutti\n",
    "\n",
    "cleaned_words.append('tutti')"
   ]
  },
  {
   "cell_type": "code",
   "execution_count": 97,
   "metadata": {},
   "outputs": [
    {
     "data": {
      "text/html": [
       "<div>\n",
       "<style scoped>\n",
       "    .dataframe tbody tr th:only-of-type {\n",
       "        vertical-align: middle;\n",
       "    }\n",
       "\n",
       "    .dataframe tbody tr th {\n",
       "        vertical-align: top;\n",
       "    }\n",
       "\n",
       "    .dataframe thead th {\n",
       "        text-align: right;\n",
       "    }\n",
       "</style>\n",
       "<table border=\"1\" class=\"dataframe\">\n",
       "  <thead>\n",
       "    <tr style=\"text-align: right;\">\n",
       "      <th></th>\n",
       "      <th>coffeeName</th>\n",
       "      <th>rating</th>\n",
       "      <th>rating_count</th>\n",
       "      <th>url</th>\n",
       "      <th>24_hours</th>\n",
       "      <th>longitude</th>\n",
       "      <th>latitude</th>\n",
       "    </tr>\n",
       "  </thead>\n",
       "  <tbody>\n",
       "  </tbody>\n",
       "</table>\n",
       "</div>"
      ],
      "text/plain": [
       "Empty DataFrame\n",
       "Columns: [coffeeName, rating, rating_count, url, 24_hours, longitude, latitude]\n",
       "Index: []"
      ]
     },
     "execution_count": 97,
     "metadata": {},
     "output_type": "execute_result"
    }
   ],
   "source": [
    "cafes[cafes['coffeeName']=='مقهي فنجال الكيف']"
   ]
  },
  {
   "cell_type": "code",
   "execution_count": 98,
   "metadata": {},
   "outputs": [
    {
     "data": {
      "text/plain": [
       "['ديوانيه فنجال بريه',\n",
       " 'موسسه مذاق الفنجال العربي',\n",
       " 'فنجال وقدوع',\n",
       " 'مقهي فنجال وحلي',\n",
       " 'فنجال شاهي']"
      ]
     },
     "execution_count": 98,
     "metadata": {},
     "output_type": "execute_result"
    }
   ],
   "source": [
    "cafes[cafes.coffeeName.str.contains(\"فنجال \")].coffeeName.unique().tolist()"
   ]
  },
  {
   "cell_type": "code",
   "execution_count": 99,
   "metadata": {},
   "outputs": [
    {
     "data": {
      "text/plain": [
       "coffeeName\n",
       "مزاج مغربي                       12\n",
       "costa                            10\n",
       "تاج القهوه                       10\n",
       "veloce                           10\n",
       "tim hortons                       9\n",
       "                                 ..\n",
       "شاي وزعفران ديوانيه كوفي قهوه     1\n",
       "شاهي الصعيدي                      1\n",
       "ريشيو  ratio                      1\n",
       "ديوانيه ومقهي الوتين              1\n",
       "مقهي سوداني maqaa sudaniun        1\n",
       "Name: count, Length: 1911, dtype: int64"
      ]
     },
     "execution_count": 99,
     "metadata": {},
     "output_type": "execute_result"
    }
   ],
   "source": [
    "cafes[~cafes['coffeeName'].isin(cleaned_words)]['coffeeName'].value_counts()"
   ]
  },
  {
   "cell_type": "code",
   "execution_count": 100,
   "metadata": {},
   "outputs": [
    {
     "data": {
      "text/plain": [
       "14"
      ]
     },
     "execution_count": 100,
     "metadata": {},
     "output_type": "execute_result"
    }
   ],
   "source": [
    "len(cleaned_words)"
   ]
  },
  {
   "cell_type": "code",
   "execution_count": 101,
   "metadata": {},
   "outputs": [
    {
     "data": {
      "text/plain": [
       "coffeeName\n",
       "dunkin donuts     54\n",
       "dr.cafe           53\n",
       "barns             51\n",
       "mccafe            47\n",
       "starbucks         44\n",
       "coffee address    35\n",
       "java              31\n",
       "dan               25\n",
       "kyan              24\n",
       "mammabunz         20\n",
       "arabica           15\n",
       "tutti             13\n",
       "java time         13\n",
       "مزاج مغربي        12\n",
       "dana              11\n",
       "veloce            10\n",
       "costa             10\n",
       "تاج القهوه        10\n",
       "half million       9\n",
       "tim hortons        9\n",
       "Name: count, dtype: int64"
      ]
     },
     "execution_count": 101,
     "metadata": {},
     "output_type": "execute_result"
    }
   ],
   "source": [
    "cafes.coffeeName.value_counts().head(20)"
   ]
  },
  {
   "cell_type": "markdown",
   "metadata": {},
   "source": [
    "Removing some rows that have duplicate lat and long(not all tho)"
   ]
  },
  {
   "cell_type": "code",
   "execution_count": 102,
   "metadata": {},
   "outputs": [],
   "source": [
    "cafes = cafes.drop(index=[1047, 521, 453, 209,352, 1209, 1370, 2580,1813])"
   ]
  },
  {
   "cell_type": "code",
   "execution_count": 103,
   "metadata": {},
   "outputs": [
    {
     "data": {
      "text/html": [
       "<div>\n",
       "<style scoped>\n",
       "    .dataframe tbody tr th:only-of-type {\n",
       "        vertical-align: middle;\n",
       "    }\n",
       "\n",
       "    .dataframe tbody tr th {\n",
       "        vertical-align: top;\n",
       "    }\n",
       "\n",
       "    .dataframe thead th {\n",
       "        text-align: right;\n",
       "    }\n",
       "</style>\n",
       "<table border=\"1\" class=\"dataframe\">\n",
       "  <thead>\n",
       "    <tr style=\"text-align: right;\">\n",
       "      <th></th>\n",
       "      <th>coffeeName</th>\n",
       "      <th>rating</th>\n",
       "      <th>rating_count</th>\n",
       "      <th>url</th>\n",
       "      <th>24_hours</th>\n",
       "      <th>longitude</th>\n",
       "      <th>latitude</th>\n",
       "    </tr>\n",
       "  </thead>\n",
       "  <tbody>\n",
       "    <tr>\n",
       "      <th>417</th>\n",
       "      <td>diwaniyat</td>\n",
       "      <td>5.0</td>\n",
       "      <td>1</td>\n",
       "      <td>https://www.google.com/maps/place/Diwaniyat+Cafe/data=!4m7!3m6!1s0x3e2f02d22ab8de1b:0xee848e054e6d560a!8m2!3d24.7135517!4d46.6752957!16s%2Fg%2F11c2l15lb0!19sChIJG964KtICLz4RClZtTgWOhO4?authuser=0&amp;hl=en&amp;rclk=1</td>\n",
       "      <td>False</td>\n",
       "      <td>46.6752957</td>\n",
       "      <td>24.7135517</td>\n",
       "    </tr>\n",
       "    <tr>\n",
       "      <th>598</th>\n",
       "      <td>coffee talk arabia</td>\n",
       "      <td>3.6</td>\n",
       "      <td>10</td>\n",
       "      <td>https://www.google.com/maps/place/Coffee+Talk+Arabia/data=!4m7!3m6!1s0x3e2f02d3dd4dd745:0xd94ea18ec5a4d47d!8m2!3d24.7135517!4d46.6752957!16s%2Fg%2F11f3_4p_g7!19sChIJRddN3dMCLz4RfdSkxY6hTtk?authuser=0&amp;hl=en&amp;rclk=1</td>\n",
       "      <td>False</td>\n",
       "      <td>46.6752957</td>\n",
       "      <td>24.7135517</td>\n",
       "    </tr>\n",
       "    <tr>\n",
       "      <th>231</th>\n",
       "      <td>alnakheel</td>\n",
       "      <td>5.0</td>\n",
       "      <td>1</td>\n",
       "      <td>https://www.google.com/maps/place/Alnakheel+Cafe/data=!4m7!3m6!1s0x3e2f059e26a1d6b1:0xf15a7ce062944751!8m2!3d24.6200862!4d46.7095332!16s%2Fg%2F11rklb3sd3!19sChIJsdahJp4FLz4RUUeUYuB8WvE?authuser=0&amp;hl=en&amp;rclk=1</td>\n",
       "      <td>False</td>\n",
       "      <td>46.7095332</td>\n",
       "      <td>24.6200862</td>\n",
       "    </tr>\n",
       "    <tr>\n",
       "      <th>647</th>\n",
       "      <td>la caverna</td>\n",
       "      <td>1.0</td>\n",
       "      <td>1</td>\n",
       "      <td>https://www.google.com/maps/place/La+Caverna+Cafe/data=!4m7!3m6!1s0x3e2f059e26a1d6b1:0x2b84ab02c4c36ca5!8m2!3d24.6200862!4d46.7095332!16s%2Fg%2F11rkl9z5tr!19sChIJsdahJp4FLz4RpWzDxAKrhCs?authuser=0&amp;hl=en&amp;rclk=1</td>\n",
       "      <td>False</td>\n",
       "      <td>46.7095332</td>\n",
       "      <td>24.6200862</td>\n",
       "    </tr>\n",
       "    <tr>\n",
       "      <th>1950</th>\n",
       "      <td>my way</td>\n",
       "      <td>3.6</td>\n",
       "      <td>7</td>\n",
       "      <td>https://www.google.com/maps/place/My+Way+Cafe/data=!4m7!3m6!1s0x3e2f059e26a1d6b1:0x68d467c6d2478326!8m2!3d24.6200862!4d46.7095332!16s%2Fg%2F11pkhr9r8l!19sChIJsdahJp4FLz4RJoNH0sZn1Gg?authuser=0&amp;hl=en&amp;rclk=1</td>\n",
       "      <td>False</td>\n",
       "      <td>46.7095332</td>\n",
       "      <td>24.6200862</td>\n",
       "    </tr>\n",
       "    <tr>\n",
       "      <th>189</th>\n",
       "      <td></td>\n",
       "      <td>3.3</td>\n",
       "      <td>4</td>\n",
       "      <td>https://www.google.com/maps/data=!4m7!3m6!1s0x3e2f05a86b5bc4ef:0x15d0e99b727a01ba!8m2!3d24.6448201!4d46.7259579!16s%2Fg%2F11t3_cm302!19sChIJ78Rba6gFLz4RugF6cpvp0BU?authuser=0&amp;hl=en&amp;rclk=1</td>\n",
       "      <td>False</td>\n",
       "      <td>NaN</td>\n",
       "      <td>NaN</td>\n",
       "    </tr>\n",
       "    <tr>\n",
       "      <th>363</th>\n",
       "      <td>استراحه الامير</td>\n",
       "      <td>4.6</td>\n",
       "      <td>8</td>\n",
       "      <td>https://www.google.com/maps/place/%D8%A7%D8%B3%D8%AA%D8%B1%D8%A7%D8%AD%D8%A9+%D8%A7%D9%84%D8%A7%D9%85%D9%8A%D8%B1%E2%80%AD/data=!4m7!3m6!1s0x3e2effb3ee940f6b:0x9d98c2d3272180d!8m2!3d24.8144107!4d46.7653716!16s%2Fg%2F11h3wybjw5!19sChIJaw-U7rP_Lj4RDRhyMi2M2Qk?authuser=0&amp;hl=en&amp;rclk=1</td>\n",
       "      <td>False</td>\n",
       "      <td>NaN</td>\n",
       "      <td>NaN</td>\n",
       "    </tr>\n",
       "    <tr>\n",
       "      <th>427</th>\n",
       "      <td>veloce</td>\n",
       "      <td>4.5</td>\n",
       "      <td>22</td>\n",
       "      <td>https://www.google.com/maps/place/Veloce+Cafe/data=!4m7!3m6!1s0x3e2efdf26aa8c68b:0x9b8711b1e87fa144!8m2!3d24.7622419!4d46.7227265!16s%2Fg%2F11t2f4_t24!19sChIJi8aoavL9Lj4RRKF_6LERh5s?authuser=0&amp;hl=en&amp;rclk=1</td>\n",
       "      <td>False</td>\n",
       "      <td>NaN</td>\n",
       "      <td>NaN</td>\n",
       "    </tr>\n",
       "    <tr>\n",
       "      <th>1452</th>\n",
       "      <td>الايمان</td>\n",
       "      <td>4.1</td>\n",
       "      <td>16</td>\n",
       "      <td>https://www.google.com/maps/place/%D8%A7%D9%84%D8%A7%D9%8A%D9%85%D8%A7%D9%86%E2%80%AD/data=!4m7!3m6!1s0x3e2f117dc77cdca5:0xe3a38d2147aa4b06!8m2!3d24.566332!4d46.6676809!16s%2Fg%2F11gtsw4d2j!19sChIJpdx8x30RLz4RBkuqRyGNo-M?authuser=0&amp;hl=en&amp;rclk=1</td>\n",
       "      <td>False</td>\n",
       "      <td>NaN</td>\n",
       "      <td>NaN</td>\n",
       "    </tr>\n",
       "  </tbody>\n",
       "</table>\n",
       "</div>"
      ],
      "text/plain": [
       "              coffeeName  rating  rating_count  \\\n",
       "417            diwaniyat     5.0             1   \n",
       "598   coffee talk arabia     3.6            10   \n",
       "231            alnakheel     5.0             1   \n",
       "647           la caverna     1.0             1   \n",
       "1950              my way     3.6             7   \n",
       "189                          3.3             4   \n",
       "363       استراحه الامير     4.6             8   \n",
       "427               veloce     4.5            22   \n",
       "1452             الايمان     4.1            16   \n",
       "\n",
       "                                                                                                                                                                                                                                                                                            url  \\\n",
       "417                                                                            https://www.google.com/maps/place/Diwaniyat+Cafe/data=!4m7!3m6!1s0x3e2f02d22ab8de1b:0xee848e054e6d560a!8m2!3d24.7135517!4d46.6752957!16s%2Fg%2F11c2l15lb0!19sChIJG964KtICLz4RClZtTgWOhO4?authuser=0&hl=en&rclk=1   \n",
       "598                                                                        https://www.google.com/maps/place/Coffee+Talk+Arabia/data=!4m7!3m6!1s0x3e2f02d3dd4dd745:0xd94ea18ec5a4d47d!8m2!3d24.7135517!4d46.6752957!16s%2Fg%2F11f3_4p_g7!19sChIJRddN3dMCLz4RfdSkxY6hTtk?authuser=0&hl=en&rclk=1   \n",
       "231                                                                            https://www.google.com/maps/place/Alnakheel+Cafe/data=!4m7!3m6!1s0x3e2f059e26a1d6b1:0xf15a7ce062944751!8m2!3d24.6200862!4d46.7095332!16s%2Fg%2F11rklb3sd3!19sChIJsdahJp4FLz4RUUeUYuB8WvE?authuser=0&hl=en&rclk=1   \n",
       "647                                                                           https://www.google.com/maps/place/La+Caverna+Cafe/data=!4m7!3m6!1s0x3e2f059e26a1d6b1:0x2b84ab02c4c36ca5!8m2!3d24.6200862!4d46.7095332!16s%2Fg%2F11rkl9z5tr!19sChIJsdahJp4FLz4RpWzDxAKrhCs?authuser=0&hl=en&rclk=1   \n",
       "1950                                                                              https://www.google.com/maps/place/My+Way+Cafe/data=!4m7!3m6!1s0x3e2f059e26a1d6b1:0x68d467c6d2478326!8m2!3d24.6200862!4d46.7095332!16s%2Fg%2F11pkhr9r8l!19sChIJsdahJp4FLz4RJoNH0sZn1Gg?authuser=0&hl=en&rclk=1   \n",
       "189                                                                                                 https://www.google.com/maps/data=!4m7!3m6!1s0x3e2f05a86b5bc4ef:0x15d0e99b727a01ba!8m2!3d24.6448201!4d46.7259579!16s%2Fg%2F11t3_cm302!19sChIJ78Rba6gFLz4RugF6cpvp0BU?authuser=0&hl=en&rclk=1   \n",
       "363   https://www.google.com/maps/place/%D8%A7%D8%B3%D8%AA%D8%B1%D8%A7%D8%AD%D8%A9+%D8%A7%D9%84%D8%A7%D9%85%D9%8A%D8%B1%E2%80%AD/data=!4m7!3m6!1s0x3e2effb3ee940f6b:0x9d98c2d3272180d!8m2!3d24.8144107!4d46.7653716!16s%2Fg%2F11h3wybjw5!19sChIJaw-U7rP_Lj4RDRhyMi2M2Qk?authuser=0&hl=en&rclk=1   \n",
       "427                                                                               https://www.google.com/maps/place/Veloce+Cafe/data=!4m7!3m6!1s0x3e2efdf26aa8c68b:0x9b8711b1e87fa144!8m2!3d24.7622419!4d46.7227265!16s%2Fg%2F11t2f4_t24!19sChIJi8aoavL9Lj4RRKF_6LERh5s?authuser=0&hl=en&rclk=1   \n",
       "1452                                       https://www.google.com/maps/place/%D8%A7%D9%84%D8%A7%D9%8A%D9%85%D8%A7%D9%86%E2%80%AD/data=!4m7!3m6!1s0x3e2f117dc77cdca5:0xe3a38d2147aa4b06!8m2!3d24.566332!4d46.6676809!16s%2Fg%2F11gtsw4d2j!19sChIJpdx8x30RLz4RBkuqRyGNo-M?authuser=0&hl=en&rclk=1   \n",
       "\n",
       "      24_hours   longitude    latitude  \n",
       "417      False  46.6752957  24.7135517  \n",
       "598      False  46.6752957  24.7135517  \n",
       "231      False  46.7095332  24.6200862  \n",
       "647      False  46.7095332  24.6200862  \n",
       "1950     False  46.7095332  24.6200862  \n",
       "189      False         NaN         NaN  \n",
       "363      False         NaN         NaN  \n",
       "427      False         NaN         NaN  \n",
       "1452     False         NaN         NaN  "
      ]
     },
     "execution_count": 103,
     "metadata": {},
     "output_type": "execute_result"
    }
   ],
   "source": [
    "mask = cafes.duplicated(subset=['latitude', 'longitude'], keep=False)\n",
    "duplicates = cafes[mask].sort_values(['longitude','latitude'])\n",
    "duplicates"
   ]
  },
  {
   "cell_type": "markdown",
   "metadata": {},
   "source": [
    "fixing some errors"
   ]
  },
  {
   "cell_type": "code",
   "execution_count": 104,
   "metadata": {},
   "outputs": [],
   "source": [
    "cafes.loc[231 ,['longitude','latitude']] =  46.70953304818867,24.620092326545336\n",
    "cafes.loc[647 ,['longitude','latitude']] =  46.70764972712889,24.62060317492925\n",
    "cafes.loc[1950 ,['longitude','latitude']] = 46.70831194957225,24.620874906611203"
   ]
  },
  {
   "cell_type": "markdown",
   "metadata": {},
   "source": [
    "missing coordinates cleaning"
   ]
  },
  {
   "cell_type": "code",
   "execution_count": 105,
   "metadata": {},
   "outputs": [
    {
     "data": {
      "text/html": [
       "<div>\n",
       "<style scoped>\n",
       "    .dataframe tbody tr th:only-of-type {\n",
       "        vertical-align: middle;\n",
       "    }\n",
       "\n",
       "    .dataframe tbody tr th {\n",
       "        vertical-align: top;\n",
       "    }\n",
       "\n",
       "    .dataframe thead th {\n",
       "        text-align: right;\n",
       "    }\n",
       "</style>\n",
       "<table border=\"1\" class=\"dataframe\">\n",
       "  <thead>\n",
       "    <tr style=\"text-align: right;\">\n",
       "      <th></th>\n",
       "      <th>coffeeName</th>\n",
       "      <th>rating</th>\n",
       "      <th>rating_count</th>\n",
       "      <th>url</th>\n",
       "      <th>24_hours</th>\n",
       "      <th>longitude</th>\n",
       "      <th>latitude</th>\n",
       "    </tr>\n",
       "  </thead>\n",
       "  <tbody>\n",
       "    <tr>\n",
       "      <th>189</th>\n",
       "      <td></td>\n",
       "      <td>3.3</td>\n",
       "      <td>4</td>\n",
       "      <td>https://www.google.com/maps/data=!4m7!3m6!1s0x3e2f05a86b5bc4ef:0x15d0e99b727a01ba!8m2!3d24.6448201!4d46.7259579!16s%2Fg%2F11t3_cm302!19sChIJ78Rba6gFLz4RugF6cpvp0BU?authuser=0&amp;hl=en&amp;rclk=1</td>\n",
       "      <td>False</td>\n",
       "      <td>NaN</td>\n",
       "      <td>NaN</td>\n",
       "    </tr>\n",
       "    <tr>\n",
       "      <th>363</th>\n",
       "      <td>استراحه الامير</td>\n",
       "      <td>4.6</td>\n",
       "      <td>8</td>\n",
       "      <td>https://www.google.com/maps/place/%D8%A7%D8%B3%D8%AA%D8%B1%D8%A7%D8%AD%D8%A9+%D8%A7%D9%84%D8%A7%D9%85%D9%8A%D8%B1%E2%80%AD/data=!4m7!3m6!1s0x3e2effb3ee940f6b:0x9d98c2d3272180d!8m2!3d24.8144107!4d46.7653716!16s%2Fg%2F11h3wybjw5!19sChIJaw-U7rP_Lj4RDRhyMi2M2Qk?authuser=0&amp;hl=en&amp;rclk=1</td>\n",
       "      <td>False</td>\n",
       "      <td>NaN</td>\n",
       "      <td>NaN</td>\n",
       "    </tr>\n",
       "    <tr>\n",
       "      <th>427</th>\n",
       "      <td>veloce</td>\n",
       "      <td>4.5</td>\n",
       "      <td>22</td>\n",
       "      <td>https://www.google.com/maps/place/Veloce+Cafe/data=!4m7!3m6!1s0x3e2efdf26aa8c68b:0x9b8711b1e87fa144!8m2!3d24.7622419!4d46.7227265!16s%2Fg%2F11t2f4_t24!19sChIJi8aoavL9Lj4RRKF_6LERh5s?authuser=0&amp;hl=en&amp;rclk=1</td>\n",
       "      <td>False</td>\n",
       "      <td>NaN</td>\n",
       "      <td>NaN</td>\n",
       "    </tr>\n",
       "    <tr>\n",
       "      <th>1452</th>\n",
       "      <td>الايمان</td>\n",
       "      <td>4.1</td>\n",
       "      <td>16</td>\n",
       "      <td>https://www.google.com/maps/place/%D8%A7%D9%84%D8%A7%D9%8A%D9%85%D8%A7%D9%86%E2%80%AD/data=!4m7!3m6!1s0x3e2f117dc77cdca5:0xe3a38d2147aa4b06!8m2!3d24.566332!4d46.6676809!16s%2Fg%2F11gtsw4d2j!19sChIJpdx8x30RLz4RBkuqRyGNo-M?authuser=0&amp;hl=en&amp;rclk=1</td>\n",
       "      <td>False</td>\n",
       "      <td>NaN</td>\n",
       "      <td>NaN</td>\n",
       "    </tr>\n",
       "  </tbody>\n",
       "</table>\n",
       "</div>"
      ],
      "text/plain": [
       "          coffeeName  rating  rating_count  \\\n",
       "189                      3.3             4   \n",
       "363   استراحه الامير     4.6             8   \n",
       "427           veloce     4.5            22   \n",
       "1452         الايمان     4.1            16   \n",
       "\n",
       "                                                                                                                                                                                                                                                                                            url  \\\n",
       "189                                                                                                 https://www.google.com/maps/data=!4m7!3m6!1s0x3e2f05a86b5bc4ef:0x15d0e99b727a01ba!8m2!3d24.6448201!4d46.7259579!16s%2Fg%2F11t3_cm302!19sChIJ78Rba6gFLz4RugF6cpvp0BU?authuser=0&hl=en&rclk=1   \n",
       "363   https://www.google.com/maps/place/%D8%A7%D8%B3%D8%AA%D8%B1%D8%A7%D8%AD%D8%A9+%D8%A7%D9%84%D8%A7%D9%85%D9%8A%D8%B1%E2%80%AD/data=!4m7!3m6!1s0x3e2effb3ee940f6b:0x9d98c2d3272180d!8m2!3d24.8144107!4d46.7653716!16s%2Fg%2F11h3wybjw5!19sChIJaw-U7rP_Lj4RDRhyMi2M2Qk?authuser=0&hl=en&rclk=1   \n",
       "427                                                                               https://www.google.com/maps/place/Veloce+Cafe/data=!4m7!3m6!1s0x3e2efdf26aa8c68b:0x9b8711b1e87fa144!8m2!3d24.7622419!4d46.7227265!16s%2Fg%2F11t2f4_t24!19sChIJi8aoavL9Lj4RRKF_6LERh5s?authuser=0&hl=en&rclk=1   \n",
       "1452                                       https://www.google.com/maps/place/%D8%A7%D9%84%D8%A7%D9%8A%D9%85%D8%A7%D9%86%E2%80%AD/data=!4m7!3m6!1s0x3e2f117dc77cdca5:0xe3a38d2147aa4b06!8m2!3d24.566332!4d46.6676809!16s%2Fg%2F11gtsw4d2j!19sChIJpdx8x30RLz4RBkuqRyGNo-M?authuser=0&hl=en&rclk=1   \n",
       "\n",
       "      24_hours longitude latitude  \n",
       "189      False       NaN      NaN  \n",
       "363      False       NaN      NaN  \n",
       "427      False       NaN      NaN  \n",
       "1452     False       NaN      NaN  "
      ]
     },
     "execution_count": 105,
     "metadata": {},
     "output_type": "execute_result"
    }
   ],
   "source": [
    "missing_coords = cafes[cafes['longitude'].isnull() | cafes['latitude'].isnull()]\n",
    "missing_coords"
   ]
  },
  {
   "cell_type": "code",
   "execution_count": 106,
   "metadata": {},
   "outputs": [
    {
     "name": "stdout",
     "output_type": "stream",
     "text": [
      "          coffeeName  \\\n",
      "189                    \n",
      "363   استراحه الامير   \n",
      "427           veloce   \n",
      "1452         الايمان   \n",
      "\n",
      "                                                                                                                                                                                                                                                                                            url  \n",
      "189                                                                                                 https://www.google.com/maps/data=!4m7!3m6!1s0x3e2f05a86b5bc4ef:0x15d0e99b727a01ba!8m2!3d24.6448201!4d46.7259579!16s%2Fg%2F11t3_cm302!19sChIJ78Rba6gFLz4RugF6cpvp0BU?authuser=0&hl=en&rclk=1  \n",
      "363   https://www.google.com/maps/place/%D8%A7%D8%B3%D8%AA%D8%B1%D8%A7%D8%AD%D8%A9+%D8%A7%D9%84%D8%A7%D9%85%D9%8A%D8%B1%E2%80%AD/data=!4m7!3m6!1s0x3e2effb3ee940f6b:0x9d98c2d3272180d!8m2!3d24.8144107!4d46.7653716!16s%2Fg%2F11h3wybjw5!19sChIJaw-U7rP_Lj4RDRhyMi2M2Qk?authuser=0&hl=en&rclk=1  \n",
      "427                                                                               https://www.google.com/maps/place/Veloce+Cafe/data=!4m7!3m6!1s0x3e2efdf26aa8c68b:0x9b8711b1e87fa144!8m2!3d24.7622419!4d46.7227265!16s%2Fg%2F11t2f4_t24!19sChIJi8aoavL9Lj4RRKF_6LERh5s?authuser=0&hl=en&rclk=1  \n",
      "1452                                       https://www.google.com/maps/place/%D8%A7%D9%84%D8%A7%D9%8A%D9%85%D8%A7%D9%86%E2%80%AD/data=!4m7!3m6!1s0x3e2f117dc77cdca5:0xe3a38d2147aa4b06!8m2!3d24.566332!4d46.6676809!16s%2Fg%2F11gtsw4d2j!19sChIJpdx8x30RLz4RBkuqRyGNo-M?authuser=0&hl=en&rclk=1  \n"
     ]
    }
   ],
   "source": [
    "print(missing_coords[['coffeeName', 'url']])\n",
    "pd.set_option('display.max_colwidth', None)\n"
   ]
  },
  {
   "cell_type": "markdown",
   "metadata": {},
   "source": [
    "Removing bad data --> .. is not a place and url doesnt work"
   ]
  },
  {
   "cell_type": "code",
   "execution_count": 107,
   "metadata": {},
   "outputs": [
    {
     "data": {
      "text/html": [
       "<div>\n",
       "<style scoped>\n",
       "    .dataframe tbody tr th:only-of-type {\n",
       "        vertical-align: middle;\n",
       "    }\n",
       "\n",
       "    .dataframe tbody tr th {\n",
       "        vertical-align: top;\n",
       "    }\n",
       "\n",
       "    .dataframe thead th {\n",
       "        text-align: right;\n",
       "    }\n",
       "</style>\n",
       "<table border=\"1\" class=\"dataframe\">\n",
       "  <thead>\n",
       "    <tr style=\"text-align: right;\">\n",
       "      <th></th>\n",
       "      <th>coffeeName</th>\n",
       "      <th>rating</th>\n",
       "      <th>rating_count</th>\n",
       "      <th>url</th>\n",
       "      <th>24_hours</th>\n",
       "      <th>longitude</th>\n",
       "      <th>latitude</th>\n",
       "    </tr>\n",
       "  </thead>\n",
       "  <tbody>\n",
       "    <tr>\n",
       "      <th>0</th>\n",
       "      <td>cacti</td>\n",
       "      <td>4.2</td>\n",
       "      <td>2212</td>\n",
       "      <td>https://www.google.com/maps/place/Cacti+Cafe/data=!4m7!3m6!1s0x3e2efde0d2059f1d:0xfca400b51ca140cc!8m2!3d24.8339855!4d46.7356133!16s%2Fg%2F11mwzvn0zx!19sChIJHZ8F0uD9Lj4RzEChHLUApPw?authuser=0&amp;hl=en&amp;rclk=1</td>\n",
       "      <td>True</td>\n",
       "      <td>46.7356133</td>\n",
       "      <td>24.8339855</td>\n",
       "    </tr>\n",
       "    <tr>\n",
       "      <th>1</th>\n",
       "      <td>فازا قهوه مختصه</td>\n",
       "      <td>4.3</td>\n",
       "      <td>889</td>\n",
       "      <td>https://www.google.com/maps/place/%D9%81%D8%A7%D8%B2%D8%A7+%D9%82%D9%87%D9%88%D8%A9+%D9%85%D8%AE%D8%AA%D8%B5%D8%A9%E2%80%AD/data=!4m7!3m6!1s0x3e2efdc6c840b3ed:0x792ad260e10b7e!8m2!3d24.7724577!4d46.6973369!16s%2Fg%2F11mwkdclc9!19sChIJ7bNAyMb9Lj4RfgvhYNIqeQA?authuser=0&amp;hl=en&amp;rclk=1</td>\n",
       "      <td>False</td>\n",
       "      <td>46.6973369</td>\n",
       "      <td>24.7724577</td>\n",
       "    </tr>\n",
       "    <tr>\n",
       "      <th>2</th>\n",
       "      <td>ناريز</td>\n",
       "      <td>3.8</td>\n",
       "      <td>39</td>\n",
       "      <td>https://www.google.com/maps/place/%D9%86%D8%A7%D8%B1%D9%8A%D8%B2%E2%80%AD/data=!4m7!3m6!1s0x3e2faacd291e6591:0x3e908558d2f0f63f!8m2!3d24.8072766!4d46.8521092!16s%2Fg%2F11c5_5k_zz!19sChIJkWUeKc2qLz4RP_bw0liFkD4?authuser=0&amp;hl=en&amp;rclk=1</td>\n",
       "      <td>False</td>\n",
       "      <td>46.8521092</td>\n",
       "      <td>24.8072766</td>\n",
       "    </tr>\n",
       "    <tr>\n",
       "      <th>3</th>\n",
       "      <td>fc lounge  اف سي لاونج</td>\n",
       "      <td>3.5</td>\n",
       "      <td>539</td>\n",
       "      <td>https://www.google.com/maps/place/Fc+Lounge+-+%D8%A7%D9%81+%D8%B3%D9%8A+%D9%84%D8%A7%D9%88%D9%86%D8%AC%E2%80%AD/data=!4m7!3m6!1s0x3e2eff79d7dd770d:0xbd5029a7e12e0c2b!8m2!3d24.8131149!4d46.7680585!16s%2Fg%2F11lgkw1ffk!19sChIJDXfd13n_Lj4RKwwu4acpUL0?authuser=0&amp;hl=en&amp;rclk=1</td>\n",
       "      <td>True</td>\n",
       "      <td>46.7680585</td>\n",
       "      <td>24.8131149</td>\n",
       "    </tr>\n",
       "    <tr>\n",
       "      <th>4</th>\n",
       "      <td>peaks</td>\n",
       "      <td>4.6</td>\n",
       "      <td>25</td>\n",
       "      <td>https://www.google.com/maps/place/PEAKS/data=!4m7!3m6!1s0x3e2ee380585f0151:0xab784cd32a1e3d85!8m2!3d24.742045!4d46.6348092!16s%2Fg%2F11s0qh89n0!19sChIJUQFfWIDjLj4RhT0eKtNMeKs?authuser=0&amp;hl=en&amp;rclk=1</td>\n",
       "      <td>False</td>\n",
       "      <td>46.6348092</td>\n",
       "      <td>24.742045</td>\n",
       "    </tr>\n",
       "  </tbody>\n",
       "</table>\n",
       "</div>"
      ],
      "text/plain": [
       "               coffeeName  rating  rating_count  \\\n",
       "0                   cacti     4.2          2212   \n",
       "1         فازا قهوه مختصه     4.3           889   \n",
       "2                   ناريز     3.8            39   \n",
       "3  fc lounge  اف سي لاونج     3.5           539   \n",
       "4                   peaks     4.6            25   \n",
       "\n",
       "                                                                                                                                                                                                                                                                                         url  \\\n",
       "0                                                                               https://www.google.com/maps/place/Cacti+Cafe/data=!4m7!3m6!1s0x3e2efde0d2059f1d:0xfca400b51ca140cc!8m2!3d24.8339855!4d46.7356133!16s%2Fg%2F11mwzvn0zx!19sChIJHZ8F0uD9Lj4RzEChHLUApPw?authuser=0&hl=en&rclk=1   \n",
       "1  https://www.google.com/maps/place/%D9%81%D8%A7%D8%B2%D8%A7+%D9%82%D9%87%D9%88%D8%A9+%D9%85%D8%AE%D8%AA%D8%B5%D8%A9%E2%80%AD/data=!4m7!3m6!1s0x3e2efdc6c840b3ed:0x792ad260e10b7e!8m2!3d24.7724577!4d46.6973369!16s%2Fg%2F11mwkdclc9!19sChIJ7bNAyMb9Lj4RfgvhYNIqeQA?authuser=0&hl=en&rclk=1   \n",
       "2                                                  https://www.google.com/maps/place/%D9%86%D8%A7%D8%B1%D9%8A%D8%B2%E2%80%AD/data=!4m7!3m6!1s0x3e2faacd291e6591:0x3e908558d2f0f63f!8m2!3d24.8072766!4d46.8521092!16s%2Fg%2F11c5_5k_zz!19sChIJkWUeKc2qLz4RP_bw0liFkD4?authuser=0&hl=en&rclk=1   \n",
       "3            https://www.google.com/maps/place/Fc+Lounge+-+%D8%A7%D9%81+%D8%B3%D9%8A+%D9%84%D8%A7%D9%88%D9%86%D8%AC%E2%80%AD/data=!4m7!3m6!1s0x3e2eff79d7dd770d:0xbd5029a7e12e0c2b!8m2!3d24.8131149!4d46.7680585!16s%2Fg%2F11lgkw1ffk!19sChIJDXfd13n_Lj4RKwwu4acpUL0?authuser=0&hl=en&rclk=1   \n",
       "4                                                                                     https://www.google.com/maps/place/PEAKS/data=!4m7!3m6!1s0x3e2ee380585f0151:0xab784cd32a1e3d85!8m2!3d24.742045!4d46.6348092!16s%2Fg%2F11s0qh89n0!19sChIJUQFfWIDjLj4RhT0eKtNMeKs?authuser=0&hl=en&rclk=1   \n",
       "\n",
       "   24_hours   longitude    latitude  \n",
       "0      True  46.7356133  24.8339855  \n",
       "1     False  46.6973369  24.7724577  \n",
       "2     False  46.8521092  24.8072766  \n",
       "3      True  46.7680585  24.8131149  \n",
       "4     False  46.6348092   24.742045  "
      ]
     },
     "execution_count": 107,
     "metadata": {},
     "output_type": "execute_result"
    }
   ],
   "source": [
    "cafes = cafes[cafes['coffeeName'] != '..']\n",
    "cafes.head()"
   ]
  },
  {
   "cell_type": "markdown",
   "metadata": {},
   "source": [
    "clicking url in google maps, filling in correct coordinates for null values"
   ]
  },
  {
   "cell_type": "code",
   "execution_count": 108,
   "metadata": {},
   "outputs": [],
   "source": [
    "cafes.loc[363 ,['longitude','latitude']] =  46.76535014232869, 24.814398561155688\n",
    "cafes.loc[427 ,['longitude','latitude']] =  46.7227265, 24.762256513537807 \n",
    "cafes.loc[1452 ,['longitude','latitude']] = 46.66768090000001, 24.566332000000113"
   ]
  },
  {
   "cell_type": "code",
   "execution_count": null,
   "metadata": {},
   "outputs": [],
   "source": []
  },
  {
   "cell_type": "code",
   "execution_count": null,
   "metadata": {},
   "outputs": [],
   "source": []
  },
  {
   "cell_type": "code",
   "execution_count": null,
   "metadata": {},
   "outputs": [],
   "source": []
  },
  {
   "cell_type": "code",
   "execution_count": 109,
   "metadata": {},
   "outputs": [
    {
     "data": {
      "text/plain": [
       "\"cafes_gpd = gpd.geopandas(cafes, geometry=gpd.points_from_xy(\\n        cafes['lon'],\\n          cafes['lan']\\n          ))\""
      ]
     },
     "execution_count": 109,
     "metadata": {},
     "output_type": "execute_result"
    }
   ],
   "source": [
    "\"\"\"cafes_gpd = gpd.geopandas(cafes, geometry=gpd.points_from_xy(\n",
    "        cafes['lon'],\n",
    "          cafes['lan']\n",
    "          ))\"\"\""
   ]
  },
  {
   "cell_type": "code",
   "execution_count": null,
   "metadata": {},
   "outputs": [],
   "source": []
  }
 ],
 "metadata": {
  "kernelspec": {
   "display_name": "dsc80",
   "language": "python",
   "name": "python3"
  },
  "language_info": {
   "codemirror_mode": {
    "name": "ipython",
    "version": 3
   },
   "file_extension": ".py",
   "mimetype": "text/x-python",
   "name": "python",
   "nbconvert_exporter": "python",
   "pygments_lexer": "ipython3",
   "version": "3.12.8"
  }
 },
 "nbformat": 4,
 "nbformat_minor": 2
}
